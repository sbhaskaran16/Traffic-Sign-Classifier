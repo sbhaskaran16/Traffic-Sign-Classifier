{
 "cells": [
  {
   "cell_type": "markdown",
   "metadata": {},
   "source": [
    "# In this notebook, I have presented the implementation.\n",
    "\n",
    "## The notebook titled Traffic_Sign_Classifiers has the answers/discussions to the questions 1,2,3,4 and 5.\n",
    "\n",
    "## The notebook titled MY_TEST_SET_FINAL has the remaining questions answered with code to support the answers. \n",
    "\n"
   ]
  },
  {
   "cell_type": "code",
   "execution_count": 1,
   "metadata": {
    "collapsed": true
   },
   "outputs": [],
   "source": [
    "import os\n",
    "import numpy as np\n",
    "import random "
   ]
  },
  {
   "cell_type": "code",
   "execution_count": 3,
   "metadata": {
    "collapsed": false
   },
   "outputs": [],
   "source": [
    "# Load pickled data\n",
    "import pickle\n",
    "\n",
    "# TODO: Fill this in based on where you saved the training and testing data\n",
    "\n",
    "training_file = 'train.p'\n",
    "testing_file  = 'test.p'\n",
    "\n",
    "with open(training_file, mode='rb') as f:\n",
    "    train = pickle.load(f)\n",
    "with open(testing_file, mode='rb') as f:\n",
    "    test = pickle.load(f)\n",
    "    \n",
    "X_train, y_train = train['features'], train['labels']\n",
    "X_test, y_test = test['features'], test['labels']"
   ]
  },
  {
   "cell_type": "code",
   "execution_count": 4,
   "metadata": {
    "collapsed": false
   },
   "outputs": [
    {
     "data": {
      "text/plain": [
       "(39209,)"
      ]
     },
     "execution_count": 4,
     "metadata": {},
     "output_type": "execute_result"
    }
   ],
   "source": [
    "y_train.shape"
   ]
  },
  {
   "cell_type": "code",
   "execution_count": 5,
   "metadata": {
    "collapsed": true
   },
   "outputs": [],
   "source": [
    "# Using TensorFlow API to convert RGB images to Grayscale images\n",
    "\n",
    "import tensorflow as tf\n",
    "\n",
    "X_tr = tf.placeholder(tf.uint8, shape = X_train.shape)\n",
    "X_te = tf.placeholder(tf.uint8, shape = X_test.shape)\n",
    "\n",
    "X_train_gray = tf.image.rgb_to_grayscale(X_tr)\n",
    "X_test_gray  = tf.image.rgb_to_grayscale(X_te)\n",
    "\n",
    "with tf.Session() as sess:\n",
    "    X_train = sess.run(X_train_gray, feed_dict={X_tr:X_train})\n",
    "    X_test  = sess.run(X_test_gray, feed_dict={X_te:X_test})"
   ]
  },
  {
   "cell_type": "code",
   "execution_count": 6,
   "metadata": {
    "collapsed": true
   },
   "outputs": [],
   "source": [
    "#Scaling the pixel values to lie between 0.1 and 0.9 \n",
    "#Scaling all the input data sets X_train, X_validation and X_test\n",
    "\n",
    "def normalize_grayscale(image_data):\n",
    "    \n",
    "    a = 0.1\n",
    "    b = 0.9\n",
    "    \n",
    "    grayscale_min = 0\n",
    "    grayscale_max = 255\n",
    "    return a + ( ( (image_data - grayscale_min)*(b - a) )/( grayscale_max - grayscale_min ) )\n",
    "\n",
    "X_train = normalize_grayscale(X_train)\n",
    "#X_validation = normalize_grayscale(X_validation)\n",
    "X_test = normalize_grayscale(X_test)"
   ]
  },
  {
   "cell_type": "code",
   "execution_count": 7,
   "metadata": {
    "collapsed": false
   },
   "outputs": [
    {
     "name": "stdout",
     "output_type": "stream",
     "text": [
      "[ 210 2220 2250 1410 1980 1860  420 1440 1410 1470 2010 1320 2100 2160  780\n",
      "  630  420 1110 1200  210  360  330  390  510  270 1500  600  240  540  270\n",
      "  450  780  240  689  420 1200  390  210 2070  300  360  240  240]\n",
      "[ 0  1  2  3  4  5  6  7  8  9 10 11 12 13 14 15 16 17 18 19 20 21 22 23 24\n",
      " 25 26 27 28 29 30 31 32 33 34 35 36 37 38 39 40 41 42 43]\n"
     ]
    },
    {
     "data": {
      "image/png": "[encoded data removed]",
      "text/plain": [
       "<matplotlib.figure.Figure at 0x1fa260870b8>"
      ]
     },
     "metadata": {},
     "output_type": "display_data"
    }
   ],
   "source": [
    "# Visualizing the Histogram plot\n",
    "\n",
    "hist, bin_edges = np.histogram(y_train, bins = range(44))\n",
    "print(hist)\n",
    "# array([0, 2, 4, 1]) \n",
    "print (bin_edges)\n",
    "# array([0, 1, 2, 3, 4])) \n",
    "import matplotlib.pyplot as plt\n",
    "plt.bar(bin_edges[:-1], hist, width = 1)\n",
    "plt.xlim(min(bin_edges), max(bin_edges))\n",
    "plt.show()   "
   ]
  },
  {
   "cell_type": "code",
   "execution_count": 8,
   "metadata": {
    "collapsed": false
   },
   "outputs": [],
   "source": [
    "# generating fake data by rotating the images randomly. \n",
    "\n",
    "from skimage import transform\n",
    "\n",
    "default = 500\n",
    "start   = 0\n",
    "\n",
    "for i in range(43):\n",
    "    \n",
    "    #X_temp = []\n",
    "    \n",
    "    X_temp = X_train[start:start+hist[i]]\n",
    "    #y_temp = i*np.ones(X_temp.shape[0])\n",
    "    \n",
    "    if (hist[i] < default):\n",
    "        \n",
    "        #print('In')\n",
    "        \n",
    "        diff   = default - hist[i]  #Need to generate diff number for fake data \n",
    "        \n",
    "        \n",
    "        #print(X_temp.shape)\n",
    "        \n",
    "        for j in range(diff):\n",
    "            \n",
    "            tilt  = random.uniform(0.0, 10.0)\n",
    "            index = random.randint(0, len(X_temp) - 1)\n",
    "            test_image = transform.rotate(X_temp[index],tilt,resize=False,center=None, order=1, mode='constant', cval=0, clip=True, preserve_range=False)        \n",
    "            X_temp = np.vstack([X_temp, test_image[np.newaxis, :]])\n",
    "            \n",
    "        if i == 0:\n",
    "            \n",
    "            #print('First')    \n",
    "            X_train_aug = X_temp\n",
    "            y_train_aug = i*(np.ones(X_temp.shape[0]))\n",
    "                \n",
    "        else:\n",
    "                \n",
    "            #print(X_train_aug.shape)\n",
    "                \n",
    "            #print(X_temp.shape)\n",
    "                \n",
    "            #a = np.vstack([X_train_aug, X_temp])\n",
    "                \n",
    "            #print(a)\n",
    "                \n",
    "            X_train_aug = np.vstack([X_train_aug, X_temp])\n",
    "            y_temp = i*(np.ones(X_temp.shape[0]))\n",
    "            y_train_aug = np.hstack([y_train_aug, y_temp])\n",
    "            #print('Now Here')\n",
    "                       \n",
    "    else:\n",
    "        \n",
    "        if i == 0:\n",
    "            \n",
    "            X_train_aug = X_temp\n",
    "            \n",
    "        else:\n",
    "            \n",
    "            X_train_aug = np.vstack([X_train_aug, X_temp])\n",
    "            y_temp = i*(np.ones(X_temp.shape[0]))\n",
    "            y_train_aug = np.hstack([y_train_aug, y_temp])\n",
    "            #print('Here')\n",
    "            \n",
    "    start = start + hist[i]"
   ]
  },
  {
   "cell_type": "code",
   "execution_count": 9,
   "metadata": {
    "collapsed": false
   },
   "outputs": [
    {
     "data": {
      "text/plain": [
       "(42739, 32, 32, 1)"
      ]
     },
     "execution_count": 9,
     "metadata": {},
     "output_type": "execute_result"
    }
   ],
   "source": [
    "X_train_aug.shape"
   ]
  },
  {
   "cell_type": "code",
   "execution_count": 10,
   "metadata": {
    "collapsed": false
   },
   "outputs": [
    {
     "data": {
      "text/plain": [
       "(42739,)"
      ]
     },
     "execution_count": 10,
     "metadata": {},
     "output_type": "execute_result"
    }
   ],
   "source": [
    "y_train_aug.shape"
   ]
  },
  {
   "cell_type": "code",
   "execution_count": 11,
   "metadata": {
    "collapsed": false
   },
   "outputs": [
    {
     "name": "stdout",
     "output_type": "stream",
     "text": [
      "[ 500 2220 2250 1410 1980 1860  500 1440 1410 1470 2010 1320 2100 2160  780\n",
      "  630  500 1110 1200  500  500  500  500  510  500 1500  600  500  540  500\n",
      "  500  780  500  689  500 1200  500  500 2070  500  500  500  500]\n",
      "[ 0  1  2  3  4  5  6  7  8  9 10 11 12 13 14 15 16 17 18 19 20 21 22 23 24\n",
      " 25 26 27 28 29 30 31 32 33 34 35 36 37 38 39 40 41 42 43]\n"
     ]
    },
    {
     "data": {
      "image/png": "[encoded data removed]",
      "text/plain": [
       "<matplotlib.figure.Figure at 0x1fa28376978>"
      ]
     },
     "metadata": {},
     "output_type": "display_data"
    }
   ],
   "source": [
    "# Histogram plot after adding fake data\n",
    "\n",
    "hist, bin_edges = np.histogram(y_train_aug, bins = range(44))\n",
    "print(hist)\n",
    "# array([0, 2, 4, 1]) \n",
    "print (bin_edges)\n",
    "# array([0, 1, 2, 3, 4])) \n",
    "import matplotlib.pyplot as plt\n",
    "plt.bar(bin_edges[:-1], hist, width = 1)\n",
    "plt.xlim(min(bin_edges), max(bin_edges))\n",
    "plt.show()   "
   ]
  },
  {
   "cell_type": "code",
   "execution_count": 12,
   "metadata": {
    "collapsed": true
   },
   "outputs": [],
   "source": [
    "# generating validation set from the training set\n",
    "\n",
    "from sklearn.model_selection import train_test_split\n",
    "\n",
    "X_train_aug, X_validation, y_train_aug, y_validation = train_test_split(X_train_aug, y_train_aug, test_size=0.2, random_state=0)"
   ]
  },
  {
   "cell_type": "code",
   "execution_count": 13,
   "metadata": {
    "collapsed": false
   },
   "outputs": [
    {
     "name": "stdout",
     "output_type": "stream",
     "text": [
      "12\n"
     ]
    },
    {
     "data": {
      "image/png": "[encoded data removed]",
      "text/plain": [
       "<matplotlib.figure.Figure at 0x1fa28322ac8>"
      ]
     },
     "metadata": {},
     "output_type": "display_data"
    }
   ],
   "source": [
    "# test Visualization of the training set images.\n",
    "\n",
    "import random\n",
    "import numpy as np\n",
    "import matplotlib.pyplot as plt\n",
    "%matplotlib inline\n",
    "\n",
    "\n",
    "index = random.randint(0, len(X_train_aug))\n",
    "image = X_train[index].squeeze()\n",
    "\n",
    "plt.figure(figsize=(1,1))\n",
    "\n",
    "\n",
    "plt.imshow(image)\n",
    "print(y_train[index])"
   ]
  },
  {
   "cell_type": "code",
   "execution_count": 14,
   "metadata": {
    "collapsed": true
   },
   "outputs": [],
   "source": [
    "# Shuffle the data set\n",
    "\n",
    "from sklearn.utils import shuffle\n",
    "\n",
    "X_train_aug, y_train_aug = shuffle(X_train_aug, y_train_aug)"
   ]
  },
  {
   "cell_type": "code",
   "execution_count": 15,
   "metadata": {
    "collapsed": false
   },
   "outputs": [],
   "source": [
    "\n",
    "#Setting Hyperparameters\n",
    "import tensorflow as tf\n",
    "\n",
    "EPOCHS = 10\n",
    "BATCH_SIZE = 128\n",
    "\n"
   ]
  },
  {
   "cell_type": "code",
   "execution_count": 16,
   "metadata": {
    "collapsed": false
   },
   "outputs": [],
   "source": [
    "# The architecture for the neural net\n",
    "\n",
    "from tensorflow.contrib.layers import flatten\n",
    "\n",
    "\n",
    "def LeNet(x):    \n",
    "    # Hyperparameters\n",
    "    mu = 0\n",
    "    sigma = 0.1\n",
    "     \n",
    "    # SOLUTION: Layer 1: Convolutional. Input = 32x32x1. Output = 30x30x64.\n",
    "    conv1_W = tf.Variable(tf.truncated_normal(shape=(3, 3, 1, 64), mean = mu, stddev = sigma))\n",
    "    conv1_b = tf.Variable(tf.zeros(64))\n",
    "    conv1   = tf.nn.conv2d(x, conv1_W, strides=[1, 1, 1, 1], padding='VALID') + conv1_b\n",
    "    \n",
    "    #weight_norm = tf.nn.l2_loss(conv1_W)\n",
    "\n",
    "    # SOLUTION: Activation.\n",
    "    conv1 = tf.nn.relu(conv1)\n",
    "\n",
    "    # SOLUTION: Pooling. Input = 30x30x64. Output = 15x15x64.\n",
    "    conv1 = tf.nn.max_pool(conv1, ksize=[1, 2, 2, 1], strides=[1, 2, 2, 1], padding='VALID')\n",
    "    \n",
    "    \n",
    "    #Implementing DropOut \n",
    "    \n",
    "    conv1 = tf.nn.dropout(conv1, keep_prob)\n",
    "    \n",
    "    \n",
    "    #####################################################    \n",
    "\n",
    "    # SOLUTION: Flatten. Input = 15x15x64. Output = 14400.\n",
    "    fc0   = flatten(conv1)\n",
    "    \n",
    "    # SOLUTION: Layer 2: Fully Connected 1. Input = 14400. Output = 512.\n",
    "    fc1_W = tf.Variable(tf.truncated_normal(shape=(14400, 512), mean = mu, stddev = sigma))\n",
    "    fc1_b = tf.Variable(tf.zeros(512))\n",
    "    fc1   = tf.matmul(fc0, fc1_W) + fc1_b\n",
    "    \n",
    "    #weight_norm = tf.add(weight_norm, tf.nn.l2_loss(fc1_W))\n",
    "    \n",
    "    # SOLUTION: Activation.\n",
    "    fc1    = tf.nn.relu(fc1)\n",
    "    \n",
    "    # Implementing DropOut\n",
    "    \n",
    "    fc1 = tf.nn.dropout(fc1, keep_prob)\n",
    "    \n",
    "    # SOLUTION: Layer 3: Fully Connected 2. Input = 512. Output = 512.\n",
    "    fc2_W  = tf.Variable(tf.truncated_normal(shape=(512, 512), mean = mu, stddev = sigma))\n",
    "    fc2_b  = tf.Variable(tf.zeros(512))\n",
    "    fc2    = tf.matmul(fc1, fc2_W) + fc2_b\n",
    "    \n",
    "    #weight_norm = tf.add(weight_norm, tf.nn.l2_loss(fc2_W))\n",
    "    \n",
    "    # SOLUTION: Activation.\n",
    "    fc2    = tf.nn.relu(fc2)   \n",
    "    \n",
    "    \n",
    "    fc2 = tf.nn.dropout(fc2, keep_prob)\n",
    "\n",
    "    # SOLUTION: Layer 4: Fully Connected 3. Input = 512. Output = 43.\n",
    "    fc3_W  = tf.Variable(tf.truncated_normal(shape=(512, 43), mean = mu, stddev = sigma))\n",
    "    fc3_b  = tf.Variable(tf.zeros(43))\n",
    "    logits = tf.matmul(fc2, fc3_W) + fc3_b\n",
    "    \n",
    "    \n",
    "    #logits = tf.nn.dropout(fc3, keep_prob)\n",
    "    \n",
    "    #weight_norm = tf.add(weight_norm, tf.nn.l2_loss(fc3_W))\n",
    "    \n",
    "    return logits #,weight_norm"
   ]
  },
  {
   "cell_type": "code",
   "execution_count": 17,
   "metadata": {
    "collapsed": true
   },
   "outputs": [],
   "source": [
    "x = tf.placeholder(tf.float32, (None, 32, 32, 1))\n",
    "y = tf.placeholder(tf.int32, (None))\n",
    "keep_prob = tf.placeholder(tf.float32)\n",
    "one_hot_y = tf.one_hot(y, 43)"
   ]
  },
  {
   "cell_type": "code",
   "execution_count": 18,
   "metadata": {
    "collapsed": false
   },
   "outputs": [],
   "source": [
    "rate = 0.001\n",
    "#beta = 0.01\n",
    "\n",
    "logits = LeNet(x)\n",
    "cross_entropy = tf.nn.softmax_cross_entropy_with_logits(logits, one_hot_y)\n",
    "loss_operation = tf.reduce_mean(cross_entropy)\n",
    "#+ beta*w_norm\n",
    "optimizer = tf.train.AdamOptimizer(learning_rate = rate)\n",
    "training_operation = optimizer.minimize(loss_operation)"
   ]
  },
  {
   "cell_type": "code",
   "execution_count": 19,
   "metadata": {
    "collapsed": true
   },
   "outputs": [],
   "source": [
    "correct_prediction = tf.equal(tf.argmax(logits, 1), tf.argmax(one_hot_y, 1))\n",
    "accuracy_operation = tf.reduce_mean(tf.cast(correct_prediction, tf.float32))\n",
    "saver = tf.train.Saver()\n",
    "\n",
    "def evaluate(X_data, y_data):\n",
    "    num_examples = len(X_data)\n",
    "    total_accuracy = 0\n",
    "    sess = tf.get_default_session()\n",
    "    for offset in range(0, num_examples, BATCH_SIZE):\n",
    "        batch_x, batch_y = X_data[offset:offset+BATCH_SIZE], y_data[offset:offset+BATCH_SIZE]\n",
    "        accuracy = sess.run(accuracy_operation, feed_dict={x: batch_x, y: batch_y, keep_prob:1.0})\n",
    "        total_accuracy += (accuracy * len(batch_x))\n",
    "    return total_accuracy / num_examples"
   ]
  },
  {
   "cell_type": "code",
   "execution_count": 20,
   "metadata": {
    "collapsed": false
   },
   "outputs": [
    {
     "name": "stdout",
     "output_type": "stream",
     "text": [
      "Training...\n",
      "\n",
      "EPOCH 1 ...\n",
      "Validation Accuracy = 0.511\n",
      "\n",
      "EPOCH 2 ...\n",
      "Validation Accuracy = 0.879\n",
      "\n",
      "EPOCH 3 ...\n",
      "Validation Accuracy = 0.926\n",
      "\n",
      "EPOCH 4 ...\n",
      "Validation Accuracy = 0.946\n",
      "\n",
      "EPOCH 5 ...\n",
      "Validation Accuracy = 0.957\n",
      "\n",
      "EPOCH 6 ...\n",
      "Validation Accuracy = 0.967\n",
      "\n",
      "EPOCH 7 ...\n",
      "Validation Accuracy = 0.971\n",
      "\n",
      "EPOCH 8 ...\n",
      "Validation Accuracy = 0.975\n",
      "\n",
      "EPOCH 9 ...\n",
      "Validation Accuracy = 0.978\n",
      "\n",
      "EPOCH 10 ...\n",
      "Validation Accuracy = 0.979\n",
      "\n",
      "trained model saved\n"
     ]
    }
   ],
   "source": [
    "\n",
    "saver = tf.train.Saver()\n",
    "save_file = 'C:\\\\Users\\\\Vikas\\\\CarND-Traffic-Sign-Classifier-Project\\\\Final_model.ckpt'\n",
    "\n",
    "with tf.Session() as sess:\n",
    "    sess.run(tf.global_variables_initializer())\n",
    "    num_examples = len(X_train_aug)\n",
    "    \n",
    "    print(\"Training...\")\n",
    "    print()\n",
    "    for i in range(EPOCHS):\n",
    "        X_train_aug, y_train_aug = shuffle(X_train_aug, y_train_aug)\n",
    "        for offset in range(0, num_examples, BATCH_SIZE):\n",
    "            end = offset + BATCH_SIZE\n",
    "            batch_x, batch_y = X_train_aug[offset:end], y_train_aug[offset:end]\n",
    "            sess.run(training_operation, feed_dict={x: batch_x, y: batch_y, keep_prob:0.5})\n",
    "            \n",
    "        validation_accuracy = evaluate(X_validation, y_validation)\n",
    "        print(\"EPOCH {} ...\".format(i+1))\n",
    "        print(\"Validation Accuracy = {:.3f}\".format(validation_accuracy))\n",
    "        print()\n",
    "        \n",
    "    saver.save(sess, save_file)\n",
    "    print('trained model saved')"
   ]
  },
  {
   "cell_type": "markdown",
   "metadata": {},
   "source": [
    "## Step 3: Test a Model on New Images\n",
    "\n",
    "Take several pictures of traffic signs that you find on the web or around you (at least five), and run them through your classifier on your computer to produce example results. The classifier might not recognize some local signs but it could prove interesting nonetheless.\n",
    "\n",
    "You may find `signnames.csv` useful as it contains mappings from the class id (integer) to the actual sign name."
   ]
  },
  {
   "cell_type": "markdown",
   "metadata": {},
   "source": [
    "### Implementation\n",
    "\n",
    "Use the code cell (or multiple code cells, if necessary) to implement the first step of your project. Once you have completed your implementation and are satisfied with the results, be sure to thoroughly answer the questions that follow."
   ]
  },
  {
   "cell_type": "code",
   "execution_count": 21,
   "metadata": {
    "collapsed": false
   },
   "outputs": [
    {
     "name": "stdout",
     "output_type": "stream",
     "text": [
      "Test Accuracy = 0.915\n"
     ]
    }
   ],
   "source": [
    "# Testing on Test Data\n",
    "\n",
    "with tf.Session() as sess:\n",
    "    saver.restore(sess, tf.train.latest_checkpoint('.'))\n",
    "\n",
    "    test_accuracy = evaluate(X_test, y_test)\n",
    "    print(\"Test Accuracy = {:.3f}\".format(test_accuracy))"
   ]
  },
  {
   "cell_type": "code",
   "execution_count": 22,
   "metadata": {
    "collapsed": true
   },
   "outputs": [],
   "source": [
    "# Load Images \n",
    "import os\n",
    "from scipy import misc\n",
    "import numpy as np"
   ]
  },
  {
   "cell_type": "code",
   "execution_count": 23,
   "metadata": {
    "collapsed": true
   },
   "outputs": [],
   "source": [
    "test_image_1 = misc.imread('images1.png')\n",
    "test_image_2 = misc.imread('images2.png')\n",
    "test_image_3 = misc.imread('images3.png')\n",
    "test_image_4 = misc.imread('images4.png')\n",
    "test_image_5 = misc.imread('images5.png')\n",
    "test_image_6 = misc.imread('images6.png')"
   ]
  },
  {
   "cell_type": "code",
   "execution_count": 24,
   "metadata": {
    "collapsed": true
   },
   "outputs": [],
   "source": [
    "test_image_1 = misc.imresize(test_image_1,(32,32)) # 1\n",
    "test_image_2 = misc.imresize(test_image_2,(32,32)) # 28\n",
    "test_image_3 = misc.imresize(test_image_3,(32,32)) # 26\n",
    "test_image_4 = misc.imresize(test_image_4,(32,32)) # 33\n",
    "test_image_5 = misc.imresize(test_image_5,(32,32)) # 14\n",
    "test_image_6 = misc.imresize(test_image_6,(32,32)) # 17"
   ]
  },
  {
   "cell_type": "code",
   "execution_count": 25,
   "metadata": {
    "collapsed": true
   },
   "outputs": [],
   "source": [
    "final_list = test_image_1[np.newaxis, :]\n",
    "final_list = np.vstack([final_list, test_image_2[np.newaxis, :]])\n",
    "final_list = np.vstack([final_list, test_image_3[np.newaxis, :]])\n",
    "final_list = np.vstack([final_list, test_image_4[np.newaxis, :]])\n",
    "final_list = np.vstack([final_list, test_image_5[np.newaxis, :]])\n",
    "final_list = np.vstack([final_list, test_image_6[np.newaxis, :]])\n",
    "\n",
    "y_true = np.array([1,28,26,33,14,17])\n"
   ]
  },
  {
   "cell_type": "code",
   "execution_count": 26,
   "metadata": {
    "collapsed": false
   },
   "outputs": [],
   "source": [
    "import tensorflow as tf\n",
    "\n",
    "mock_test = tf.placeholder(tf.uint8, shape = final_list.shape)\n",
    "mock_test_gray = tf.image.rgb_to_grayscale(mock_test)\n",
    "with tf.Session() as sess:\n",
    "    final_list = sess.run(mock_test_gray, feed_dict={mock_test:final_list})"
   ]
  },
  {
   "cell_type": "code",
   "execution_count": 27,
   "metadata": {
    "collapsed": false
   },
   "outputs": [],
   "source": [
    "final_list = normalize_grayscale(final_list)"
   ]
  },
  {
   "cell_type": "code",
   "execution_count": 28,
   "metadata": {
    "collapsed": false
   },
   "outputs": [
    {
     "data": {
      "text/plain": [
       "<matplotlib.image.AxesImage at 0x1fa138c6198>"
      ]
     },
     "execution_count": 28,
     "metadata": {},
     "output_type": "execute_result"
    },
    {
     "data": {
      "image/png": "[encoded data removed]",
      "text/plain": [
       "<matplotlib.figure.Figure at 0x1fa1d27e7b8>"
      ]
     },
     "metadata": {},
     "output_type": "display_data"
    },
    {
     "data": {
      "image/png": "[encoded data removed]",
      "text/plain": [
       "<matplotlib.figure.Figure at 0x1fa1387dc18>"
      ]
     },
     "metadata": {},
     "output_type": "display_data"
    },
    {
     "data": {
      "image/png": "[encoded data removed]",
      "text/plain": [
       "<matplotlib.figure.Figure at 0x1fa1d561cc0>"
      ]
     },
     "metadata": {},
     "output_type": "display_data"
    },
    {
     "data": {
      "image/png": "[encoded data removed]",
      "text/plain": [
       "<matplotlib.figure.Figure at 0x1fa1234b518>"
      ]
     },
     "metadata": {},
     "output_type": "display_data"
    },
    {
     "data": {
      "image/png": "[encoded data removed]",
      "text/plain": [
       "<matplotlib.figure.Figure at 0x1fa1d2bf5c0>"
      ]
     },
     "metadata": {},
     "output_type": "display_data"
    },
    {
     "data": {
      "image/png": "[encoded data removed]",
      "text/plain": [
       "<matplotlib.figure.Figure at 0x1fa122e7160>"
      ]
     },
     "metadata": {},
     "output_type": "display_data"
    }
   ],
   "source": [
    "import matplotlib.pyplot as plt\n",
    "%matplotlib inline\n",
    "\n",
    "plt.figure(figsize=(1,1))\n",
    "plt.imshow(final_list[0].squeeze())  #1 \n",
    "\n",
    "\n",
    "plt.figure(figsize=(1,1))\n",
    "plt.imshow(final_list[1].squeeze())  #28\n",
    "\n",
    "plt.figure(figsize=(1,1))\n",
    "plt.imshow(final_list[2].squeeze())  #26\n",
    "\n",
    "plt.figure(figsize=(1,1))\n",
    "plt.imshow(final_list[3].squeeze())  #33\n",
    "\n",
    "plt.figure(figsize=(1,1))\n",
    "plt.imshow(final_list[4].squeeze())  #14\n",
    "\n",
    "plt.figure(figsize=(1,1))\n",
    "plt.imshow(final_list[5].squeeze())  #17\n",
    "\n",
    "\n"
   ]
  },
  {
   "cell_type": "code",
   "execution_count": 29,
   "metadata": {
    "collapsed": true
   },
   "outputs": [],
   "source": [
    "def evaluate_mine(X_data, y_data):\n",
    "    num_examples = len(X_data)\n",
    "    total_accuracy = 0\n",
    "    sess = tf.get_default_session()\n",
    "    for offset in range(0, num_examples):\n",
    "        batch_x, batch_y = X_data[offset], y_data[offset]\n",
    "        accuracy = sess.run(accuracy_operation, feed_dict={x: batch_x, y: batch_y, keep_prob:1.0})\n",
    "        total_accuracy += (accuracy * len(batch_x))\n",
    "    return total_accuracy / num_examples"
   ]
  },
  {
   "cell_type": "code",
   "execution_count": 30,
   "metadata": {
    "collapsed": false
   },
   "outputs": [
    {
     "name": "stdout",
     "output_type": "stream",
     "text": [
      "Test Accuracy = 0.833\n"
     ]
    }
   ],
   "source": [
    "# Outside Input - From Online resource\n",
    "\n",
    "with tf.Session() as sess:\n",
    "    saver.restore(sess, tf.train.latest_checkpoint('.'))\n",
    "\n",
    "    test_accuracy = evaluate(final_list, y_true)\n",
    "    print(\"Test Accuracy = {:.3f}\".format(test_accuracy))"
   ]
  },
  {
   "cell_type": "markdown",
   "metadata": {
    "collapsed": true
   },
   "source": [
    "## This above test was to calculate the accuracy directly using the same function used for the validation set. The accuracy turned out to be 50%. In the Next notebook - MY_TEST_SET_FINAL, a more formal discussion on the image set used and the using the tf.nn.top_k() we observe the softmax probabilities."
   ]
  },
  {
   "cell_type": "code",
   "execution_count": null,
   "metadata": {
    "collapsed": true
   },
   "outputs": [],
   "source": []
  }
 ],
 "metadata": {
  "kernelspec": {
   "display_name": "Python 3",
   "language": "python",
   "name": "python3"
  },
  "language_info": {
   "codemirror_mode": {
    "name": "ipython",
    "version": 3
   },
   "file_extension": ".py",
   "mimetype": "text/x-python",
   "name": "python",
   "nbconvert_exporter": "python",
   "pygments_lexer": "ipython3",
   "version": "3.5.2"
  },
  "widgets": {
   "state": {},
   "version": "1.1.2"
  }
 },
 "nbformat": 4,
 "nbformat_minor": 2
}
