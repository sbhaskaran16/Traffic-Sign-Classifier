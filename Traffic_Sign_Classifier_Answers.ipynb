{
 "cells": [
  {
   "cell_type": "markdown",
   "metadata": {
    "collapsed": true
   },
   "source": [
    "# Self-Driving Car Engineer Nanodegree\n",
    "\n",
    "## Deep Learning\n",
    "\n",
    "## Project: Build a Traffic Sign Recognition Classifier\n",
    "\n",
    "In this notebook, a template is provided for you to implement your functionality in stages which is required to successfully complete this project. If additional code is required that cannot be included in the notebook, be sure that the Python code is successfully imported and included in your submission, if necessary. Sections that begin with **'Implementation'** in the header indicate where you should begin your implementation for your project. Note that some sections of implementation are optional, and will be marked with **'Optional'** in the header.\n",
    "\n",
    "In addition to implementing code, there will be questions that you must answer which relate to the project and your implementation. Each section where you will answer a question is preceded by a **'Question'** header. Carefully read each question and provide thorough answers in the following text boxes that begin with **'Answer:'**. Your project submission will be evaluated based on your answers to each of the questions and the implementation you provide.\n",
    "\n",
    ">**Note:** Code and Markdown cells can be executed using the **Shift + Enter** keyboard shortcut. In addition, Markdown cells can be edited by typically double-clicking the cell to enter edit mode."
   ]
  },
  {
   "cell_type": "markdown",
   "metadata": {},
   "source": [
    "---\n",
    "## Step 0: Load The Data"
   ]
  },
  {
   "cell_type": "code",
   "execution_count": 1,
   "metadata": {
    "collapsed": true
   },
   "outputs": [],
   "source": [
    "# Load pickled data\n",
    "\n",
    "import pickle\n",
    "import os\n",
    "import numpy as np\n",
    "import random \n",
    "\n",
    "training_file = 'train.p'\n",
    "testing_file  = 'test.p'\n",
    "\n",
    "with open(training_file, mode='rb') as f:\n",
    "    train = pickle.load(f)\n",
    "with open(testing_file, mode='rb') as f:\n",
    "    test = pickle.load(f)\n",
    "    \n",
    "X_train, y_train = train['features'], train['labels']\n",
    "X_test, y_test = test['features'], test['labels']"
   ]
  },
  {
   "cell_type": "markdown",
   "metadata": {},
   "source": [
    "---\n",
    "\n",
    "## Step 1: Dataset Summary & Exploration\n",
    "\n",
    "The pickled data is a dictionary with 4 key/value pairs:\n",
    "\n",
    "- `'features'` is a 4D array containing raw pixel data of the traffic sign images, (num examples, width, height, channels).\n",
    "- `'labels'` is a 2D array containing the label/class id of the traffic sign. The file `signnames.csv` contains id -> name mappings for each id.\n",
    "- `'sizes'` is a list containing tuples, (width, height) representing the the original width and height the image.\n",
    "- `'coords'` is a list containing tuples, (x1, y1, x2, y2) representing coordinates of a bounding box around the sign in the image. **THESE COORDINATES ASSUME THE ORIGINAL IMAGE. THE PICKLED DATA CONTAINS RESIZED VERSIONS (32 by 32) OF THESE IMAGES**\n",
    "\n",
    "Complete the basic data summary below."
   ]
  },
  {
   "cell_type": "code",
   "execution_count": 2,
   "metadata": {
    "collapsed": false
   },
   "outputs": [
    {
     "name": "stdout",
     "output_type": "stream",
     "text": [
      "Number of training examples = 39209\n",
      "Number of testing examples = 12630\n",
      "Image data shape = [32, 32]\n",
      "Number of classes = 43\n"
     ]
    }
   ],
   "source": [
    "# TODO: Number of training examples\n",
    "n_train = X_train.shape[0]\n",
    "\n",
    "# TODO: Number of testing examples.\n",
    "n_test = X_test.shape[0]\n",
    "\n",
    "# TODO: What's the shape of an traffic sign image?\n",
    "image_shape = [X_train.shape[1], X_train.shape[2]]\n",
    "\n",
    "# TODO: How many unique classes/labels there are in the dataset.\n",
    "n_classes = 43\n",
    "\n",
    "print(\"Number of training examples =\", n_train)\n",
    "print(\"Number of testing examples =\", n_test)\n",
    "print(\"Image data shape =\", image_shape)\n",
    "print(\"Number of classes =\", n_classes)"
   ]
  },
  {
   "cell_type": "markdown",
   "metadata": {},
   "source": [
    "----\n",
    "\n",
    "## Step 2: Design and Test a Model Architecture\n",
    "\n",
    "Design and implement a deep learning model that learns to recognize traffic signs. Train and test your model on the [German Traffic Sign Dataset](http://benchmark.ini.rub.de/?section=gtsrb&subsection=dataset).\n",
    "\n",
    "There are various aspects to consider when thinking about this problem:\n",
    "\n",
    "- Neural network architecture\n",
    "- Play around preprocessing techniques (normalization, rgb to grayscale, etc)\n",
    "- Number of examples per label (some have more than others).\n",
    "- Generate fake data.\n",
    "\n",
    "Here is an example of a [published baseline model on this problem](http://yann.lecun.com/exdb/publis/pdf/sermanet-ijcnn-11.pdf). It's not required to be familiar with the approach used in the paper but, it's good practice to try to read papers like these.\n",
    "\n",
    "**NOTE:** The LeNet-5 implementation shown in the [classroom](https://classroom.udacity.com/nanodegrees/nd013/parts/fbf77062-5703-404e-b60c-95b78b2f3f9e/modules/6df7ae49-c61c-4bb2-a23e-6527e69209ec/lessons/601ae704-1035-4287-8b11-e2c2716217ad/concepts/d4aca031-508f-4e0b-b493-e7b706120f81) at the end of the CNN lesson is a solid starting point. You'll have to change the number of classes and possibly the preprocessing, but aside from that it's plug and play!"
   ]
  },
  {
   "cell_type": "markdown",
   "metadata": {},
   "source": [
    "### Implementation\n",
    "\n",
    "Use the code cell (or multiple code cells, if necessary) to implement the first step of your project. Once you have completed your implementation and are satisfied with the results, be sure to thoroughly answer the questions that follow."
   ]
  },
  {
   "cell_type": "markdown",
   "metadata": {},
   "source": [
    "### Question 1 \n",
    "\n",
    "_Describe how you preprocessed the data. Why did you choose that technique?_"
   ]
  },
  {
   "cell_type": "markdown",
   "metadata": {},
   "source": [
    "Answer : A histogram plot of the data revealed that the number of examples under each label was uneven. A random plot of an example image from the input data set tested out to be true when compared with its corresponding label.\n",
    "\n",
    "  Three approaches were used to preprocess the data to suit our goal to classify these images with higher accuracy and precision. \n",
    "  \n",
    "  1) Using the Tensorflow API, the input images where converted to gray scale images. We know that color information in not important to the classification process, in this case and hence can be avoided, making our computations a little less expensive.\n",
    "  \n",
    "  2) The second approach was to normalize the input data between a required range. It is better to work with data sets that are centered about the zero mean and with small variance so that the learning process is quicker for the classifier and also a small variance is necessary to start with a classifier that isnt all sure about the incoming images, but gradually learns and improves its accuracy. \n",
    "  \n",
    "  3) Finally Generating Fake Data. This turned out to be tricky and a very time consuming process. But definitely worth it. I made sure that for each label we had atleast 500 training examples, thereby making it possible for the classifier to learn over more number of cases, which will eventually help it to generalize itself. I will talk about the differences in the next markdown cell. "
   ]
  },
  {
   "cell_type": "markdown",
   "metadata": {},
   "source": [
    "### Question 2\n",
    "\n",
    "_Describe how you set up the training, validation and testing data for your model. **Optional**: If you generated additional data, how did you generate the data? Why did you generate the data? What are the differences in the new dataset (with generated data) from the original dataset?_"
   ]
  },
  {
   "cell_type": "markdown",
   "metadata": {},
   "source": [
    "Answer : From the code cell, the approach I had taken to create a validation set is clear. Using the train_test_split function, setting the percentage size for the validation set at 20%, I divided the New data set (With additional samples - fake data generation - see above) into the training set and the validation set. Of course the test set was not part of the training set. The test set is kept separate and will be dealt with only when we are happy with the CovNet architecture. This ensures the validity of our classifier. \n",
    "\n",
    "\n",
    "Fake Data Generation - As I had mentioned in the last markdown cell, for the classifier to train on enough examples, additional data was necessary. Here I tap into the invariance property of the CovNets. By rotating the image, by an arbitrary amount, I was able to generate multiple instances that were not originally present in the data set. I choose rotation, as it was pretty straightforward to use and implement into the code. Other approaches include and are not limited to increasing/decreasing contrast, brightness, resampling the image etc. I would like to test these appraoches too in the future and see how my classifier performs. \n",
    "\n"
   ]
  },
  {
   "cell_type": "markdown",
   "metadata": {},
   "source": [
    "Visualize the German Traffic Signs Dataset using the pickled file(s). This is open ended, suggestions include: plotting traffic sign images, plotting the count of each sign, etc.\n",
    "\n",
    "The [Matplotlib](http://matplotlib.org/) [examples](http://matplotlib.org/examples/index.html) and [gallery](http://matplotlib.org/gallery.html) pages are a great resource for doing visualizations in Python.\n",
    "\n",
    "**NOTE:** It's recommended you start with something simple first. If you wish to do more, come back to it after you've completed the rest of the sections."
   ]
  },
  {
   "cell_type": "markdown",
   "metadata": {},
   "source": [
    "## Desinging my Architecture"
   ]
  },
  {
   "cell_type": "markdown",
   "metadata": {},
   "source": [
    "### Question 3\n",
    "\n",
    "_What does your final architecture look like? (Type of model, layers, sizes, connectivity, etc.)  For reference on how to build a deep neural network using TensorFlow, see [Deep Neural Network in TensorFlow\n",
    "](https://classroom.udacity.com/nanodegrees/nd013/parts/fbf77062-5703-404e-b60c-95b78b2f3f9e/modules/6df7ae49-c61c-4bb2-a23e-6527e69209ec/lessons/b516a270-8600-4f93-a0a3-20dfeabe5da6/concepts/83a3a2a2-a9bd-4b7b-95b0-eb924ab14432) from the classroom._\n"
   ]
  },
  {
   "cell_type": "markdown",
   "metadata": {},
   "source": [
    "## SOLUTION: Implementing a Modified Version of LeNet-5\n",
    "\n",
    "\n",
    "### Input\n",
    "The architecture accepts a 32x32xC image as input, where C is the number of color channels. Since the images are grayscale, C is 1 in this case.\n",
    "\n",
    "### Architecture\n",
    "**Layer 1: Convolutional.** The output shape should be 30x30x64.\n",
    "\n",
    "**Activation.** Your choice of activation function. - ReLU Activation Unit was used.\n",
    "\n",
    "**Pooling.** - Max Pooling - The output shape should be 15x15x64.\n",
    "\n",
    "**DROPOUT-LAYER** - Implementing a regularization technique with Keep_Prob --> 0.5 \n",
    "\n",
    "**Flatten.** Flatten the output shape of the final pooling layer such that it's 1D instead of 3D. The easiest way to do is by using `tf.contrib.layers.flatten`,---> Ouput Size --> [14400,]\n",
    "\n",
    "**Layer 3: Fully Connected.** This should have 512 outputs.\n",
    "\n",
    "**Activation.** Your choice of activation function. ReLU unit for Activation \n",
    "\n",
    "**DROPOUT-LAYER** - Implementing a regularization technique with Keep_Prob --> 0.5 \n",
    "\n",
    "**Layer 4: Fully Connected.** This should have 512 outputs.\n",
    "\n",
    "**Activation.** Your choice of activation function. ReLU unit for Activation\n",
    "\n",
    "**DROPOUT-LAYER** - Implementing a regularization technique with Keep_Prob --> 0.5, This will ensure that we dont over fit the data while training it. \n",
    "\n",
    "**Layer 5: Fully Connected (Logits).** This should have 43 outputs.\n",
    "\n",
    "### Output\n",
    "Return the result of the 3rd fully connected layer."
   ]
  },
  {
   "cell_type": "markdown",
   "metadata": {},
   "source": [
    "### Question 4\n",
    "\n",
    "_How did you train your model? (Type of optimizer, batch size, epochs, hyperparameters, etc.)_"
   ]
  },
  {
   "cell_type": "markdown",
   "metadata": {},
   "source": [
    "Training the Classifier with the input Traffic-Sign image data set.\n",
    "\n",
    "The optimizer used for this problem is the Adam Optimizer. The following are the list of Hyperparameters used in this problem. \n",
    "\n",
    "** (1)** rate -> Learning Rate was set at 0.001\n",
    "\n",
    "** (2)** Mean and Variance for a normal probability density function, from which we would draw values to initialize weights and biases.\n",
    "\n",
    "** (3) ** Epochs -> The number of times we would run the forward and the backward propagation algorithm was set to 10. The value was chosen after running multiple trials with the training data set. \n",
    "\n",
    "** (4) ** Batch Size -> was also set to 128, based on trial runs that helped me narrow down to these values. \n",
    "\n",
    "** (5) ** Finally note that I had also tried to implement the first regularization technique that was introduced to us in class. The L2 normalization added to the cost. I have however choosen the dropout scheme to be more reliable and effective over the L2 normalization, due to the fact that I observed improved validation set accuracy with the dropout scheme, which reiterates the fact that the algorithm is careful to not overfit the data with the parameters. "
   ]
  },
  {
   "cell_type": "markdown",
   "metadata": {},
   "source": [
    "### Question 5\n",
    "\n",
    "\n",
    "_What approach did you take in coming up with a solution to this problem? It may have been a process of trial and error, in which case, outline the steps you took to get to the final solution and why you chose those steps. Perhaps your solution involved an already well known implementation or architecture. In this case, discuss why you think this is suitable for the current problem._"
   ]
  },
  {
   "cell_type": "markdown",
   "metadata": {},
   "source": [
    " It is true that the approach to solve this problem was very much trial and error. The choice of Hyperparameters for the problem, as was explained in the previous markdown cell, was based on a number of trial runs. I began with the very familiar CovNet architecture,introduced to us in class. I made it a point to stick to this architecture and then work around it to make sufficient variations. I began with simple chages in the data set, I resampled the image to a 64x64 image and then ran my training algorithm on it. I also had trial runs with different permutations between, the image size, whether it was gray scale or RGB. I concluded that with normalization and using gray-scale images provided me with consistently increasing validation accuracy values. \n",
    " \n",
    " As far as the CovNet architecture was concered, I tried to run a very deep neural net. That is with 3 convolutional layers and 3 fully connected layers. It took around 20 minutes on my laptop to run these calculations and the model was not performing outstandingly well. A much simpler network, that I have implemented, gave me promising results. I was convinced that, it doesn't really matter if its a very deep network. It has to be robust and do the job for us. I was happy with a validation accuracy of 98% on the validation set. Now it was time to put the classifier to test on test images and random images that I had pulled out from online resources. \n",
    " "
   ]
  },
  {
   "cell_type": "code",
   "execution_count": null,
   "metadata": {
    "collapsed": true
   },
   "outputs": [],
   "source": []
  }
 ],
 "metadata": {
  "kernelspec": {
   "display_name": "Python 3",
   "language": "python",
   "name": "python3"
  },
  "language_info": {
   "codemirror_mode": {
    "name": "ipython",
    "version": 3
   },
   "file_extension": ".py",
   "mimetype": "text/x-python",
   "name": "python",
   "nbconvert_exporter": "python",
   "pygments_lexer": "ipython3",
   "version": "3.5.2"
  },
  "widgets": {
   "state": {},
   "version": "1.1.2"
  }
 },
 "nbformat": 4,
 "nbformat_minor": 2
}
